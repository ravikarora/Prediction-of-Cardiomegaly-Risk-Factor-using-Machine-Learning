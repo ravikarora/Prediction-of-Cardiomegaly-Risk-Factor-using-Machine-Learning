{
  "metadata": {
    "kernelspec": {
      "language": "python",
      "display_name": "Python 3",
      "name": "python3"
    },
    "language_info": {
      "name": "python",
      "version": "3.7.9",
      "mimetype": "text/x-python",
      "codemirror_mode": {
        "name": "ipython",
        "version": 3
      },
      "pygments_lexer": "ipython3",
      "nbconvert_exporter": "python",
      "file_extension": ".py"
    },
    "colab": {
      "provenance": [],
      "include_colab_link": true
    }
  },
  "nbformat_minor": 0,
  "nbformat": 4,
  "cells": [
    {
      "cell_type": "markdown",
      "metadata": {
        "id": "view-in-github",
        "colab_type": "text"
      },
      "source": [
        "<a href=\"https://colab.research.google.com/github/ravikarora/Prediction-of-Cardiomegaly-Risk-Factor-using-Machine-Learning/blob/main/final_model.ipynb\" target=\"_parent\"><img src=\"https://colab.research.google.com/assets/colab-badge.svg\" alt=\"Open In Colab\"/></a>"
      ]
    },
    {
      "cell_type": "markdown",
      "source": [
        "# **<p style=\"color:Blue;\">About The Dataset :</p>**\n",
        "\n",
        "age: Age of the patient\n",
        "\n",
        "sex: Sex of the patient\n",
        "\n",
        "cp: Chest pain type, 0 = Typical Angina, 1 = Atypical Angina, 2 = Non-anginal Pain, 3 = Asymptomatic\n",
        "\n",
        "trtbps: Resting blood pressure (in mm Hg)\n",
        "\n",
        "chol: Cholestoral in mg/dl fetched via BMI sensor\n",
        "\n",
        "fbs: (fasting blood sugar > 120 mg/dl), 1 = True, 0 = False\n",
        "\n",
        "restecg: Resting electrocardiographic results, 0 = Normal, 1 = ST-T wave normality, 2 = Left ventricular hypertrophy\n",
        "\n",
        "thalachh: Maximum heart rate achieved\n",
        "\n",
        "oldpeak: Previous peak\n",
        "\n",
        "slp: Slope\n",
        "\n",
        "caa: Number of major vessels\n",
        "\n",
        "thall: Thalium Stress Test result ~ (0,3)\n",
        "\n",
        "exng: Exercise induced angina ~ 1 = Yes, 0 = No\n",
        "\n",
        "output: Target variable\n",
        "\n"
      ],
      "metadata": {
        "id": "Xgm7_FAbvJ3e"
      }
    },
    {
      "cell_type": "code",
      "source": [
        "import seaborn as sns\n",
        "import numpy as np\n",
        "import pandas as pd\n",
        "import matplotlib.pyplot as plt\n",
        "from sklearn.model_selection import train_test_split\n",
        "from sklearn.preprocessing import StandardScaler\n",
        "from sklearn.svm import SVC\n",
        "from sklearn.linear_model import LogisticRegression\n",
        "import xgboost as xgb\n",
        "from sklearn.metrics import accuracy_score\n",
        "from sklearn.neighbors import KNeighborsClassifier\n",
        "from sklearn.ensemble import RandomForestRegressor\n",
        "from sklearn.naive_bayes import BernoulliNB\n",
        "from sklearn.naive_bayes import GaussianNB\n",
        "from sklearn.metrics import confusion_matrix\n",
        "import warnings\n",
        "warnings.filterwarnings(\"ignore\", category=DeprecationWarning)"
      ],
      "metadata": {
        "_kg_hide-output": true,
        "_kg_hide-input": true,
        "execution": {
          "iopub.status.busy": "2021-05-30T09:08:42.082317Z",
          "iopub.execute_input": "2021-05-30T09:08:42.082782Z",
          "iopub.status.idle": "2021-05-30T09:08:42.096180Z",
          "shell.execute_reply.started": "2021-05-30T09:08:42.082696Z",
          "shell.execute_reply": "2021-05-30T09:08:42.095168Z"
        },
        "trusted": true,
        "id": "Ht7JFX_-vJ3o"
      },
      "execution_count": null,
      "outputs": []
    },
    {
      "cell_type": "markdown",
      "source": [
        "***Reading The Dataset***"
      ],
      "metadata": {
        "id": "FuAJR2NTvJ3q"
      }
    },
    {
      "cell_type": "code",
      "source": [
        "heart=pd.read_csv('/content/heart.csv')\n",
        "heart"
      ],
      "metadata": {
        "execution": {
          "iopub.status.busy": "2021-05-30T09:08:42.155662Z",
          "iopub.execute_input": "2021-05-30T09:08:42.156039Z",
          "iopub.status.idle": "2021-05-30T09:08:42.177450Z",
          "shell.execute_reply.started": "2021-05-30T09:08:42.156005Z",
          "shell.execute_reply": "2021-05-30T09:08:42.176433Z"
        },
        "trusted": true,
        "id": "yu6fliZjvJ3q"
      },
      "execution_count": null,
      "outputs": []
    },
    {
      "cell_type": "markdown",
      "source": [
        "***Checking the shape of DataFrame***"
      ],
      "metadata": {
        "id": "pSSeNcJCvJ3q"
      }
    },
    {
      "cell_type": "code",
      "source": [
        "print('Number of rows are',heart.shape[0], 'and number of columns are ',heart.shape[1])"
      ],
      "metadata": {
        "_kg_hide-input": true,
        "execution": {
          "iopub.status.busy": "2021-05-30T09:08:42.256332Z",
          "iopub.execute_input": "2021-05-30T09:08:42.256713Z",
          "iopub.status.idle": "2021-05-30T09:08:42.263376Z",
          "shell.execute_reply.started": "2021-05-30T09:08:42.256679Z",
          "shell.execute_reply": "2021-05-30T09:08:42.261717Z"
        },
        "trusted": true,
        "id": "uZ_WjDiuvJ3r"
      },
      "execution_count": null,
      "outputs": []
    },
    {
      "cell_type": "markdown",
      "source": [
        "***Checking for null values***"
      ],
      "metadata": {
        "id": "_NbxQQvkvJ3r"
      }
    },
    {
      "cell_type": "code",
      "source": [
        "heart.isnull().sum()/len(heart)*100"
      ],
      "metadata": {
        "_kg_hide-input": true,
        "execution": {
          "iopub.status.busy": "2021-05-30T09:08:42.301819Z",
          "iopub.execute_input": "2021-05-30T09:08:42.302206Z",
          "iopub.status.idle": "2021-05-30T09:08:42.314351Z",
          "shell.execute_reply.started": "2021-05-30T09:08:42.302174Z",
          "shell.execute_reply": "2021-05-30T09:08:42.312785Z"
        },
        "trusted": true,
        "id": "YWSpyPnuvJ3r"
      },
      "execution_count": null,
      "outputs": []
    },
    {
      "cell_type": "markdown",
      "source": [
        "**No null values found**"
      ],
      "metadata": {
        "id": "01HNI_uyvJ3r"
      }
    },
    {
      "cell_type": "markdown",
      "source": [
        "***Checking For datatypes of the attributes***"
      ],
      "metadata": {
        "id": "q103cTG9vJ3r"
      }
    },
    {
      "cell_type": "code",
      "source": [
        "heart.info()"
      ],
      "metadata": {
        "_kg_hide-input": true,
        "execution": {
          "iopub.status.busy": "2021-05-30T09:08:42.338569Z",
          "iopub.execute_input": "2021-05-30T09:08:42.339005Z",
          "iopub.status.idle": "2021-05-30T09:08:42.354545Z",
          "shell.execute_reply.started": "2021-05-30T09:08:42.338969Z",
          "shell.execute_reply": "2021-05-30T09:08:42.353542Z"
        },
        "trusted": true,
        "id": "8ummzy5rvJ3r"
      },
      "execution_count": null,
      "outputs": []
    },
    {
      "cell_type": "markdown",
      "source": [
        "**All attributes are of type 'int' except 'oldpeak'**"
      ],
      "metadata": {
        "id": "NuOZ0hjFvJ3s"
      }
    },
    {
      "cell_type": "markdown",
      "source": [
        "***Checking for duplicate rows***"
      ],
      "metadata": {
        "id": "boYGJfNevJ3s"
      }
    },
    {
      "cell_type": "code",
      "source": [
        "heart[heart.duplicated()]\n"
      ],
      "metadata": {
        "_kg_hide-input": true,
        "execution": {
          "iopub.status.busy": "2021-05-30T09:08:42.376777Z",
          "iopub.execute_input": "2021-05-30T09:08:42.377183Z",
          "iopub.status.idle": "2021-05-30T09:08:42.399949Z",
          "shell.execute_reply.started": "2021-05-30T09:08:42.377146Z",
          "shell.execute_reply": "2021-05-30T09:08:42.398808Z"
        },
        "trusted": true,
        "id": "_YNRMUIVvJ3s"
      },
      "execution_count": null,
      "outputs": []
    },
    {
      "cell_type": "markdown",
      "source": [
        "***Removing the duplicates***"
      ],
      "metadata": {
        "id": "hj3AswLrvJ3s"
      }
    },
    {
      "cell_type": "code",
      "source": [
        "heart.drop_duplicates(keep='first',inplace=True)"
      ],
      "metadata": {
        "_kg_hide-input": false,
        "execution": {
          "iopub.status.busy": "2021-05-30T09:08:42.408972Z",
          "iopub.execute_input": "2021-05-30T09:08:42.409497Z",
          "iopub.status.idle": "2021-05-30T09:08:42.418922Z",
          "shell.execute_reply.started": "2021-05-30T09:08:42.409446Z",
          "shell.execute_reply": "2021-05-30T09:08:42.418045Z"
        },
        "trusted": true,
        "id": "H6cPo4CsvJ3s"
      },
      "execution_count": null,
      "outputs": []
    },
    {
      "cell_type": "markdown",
      "source": [
        "**Checking new shape**"
      ],
      "metadata": {
        "id": "hjEdObsvvJ3s"
      }
    },
    {
      "cell_type": "code",
      "source": [
        "print('Number of rows are',heart.shape[0], 'and number of columns are ',heart.shape[1])"
      ],
      "metadata": {
        "_kg_hide-input": true,
        "execution": {
          "iopub.status.busy": "2021-05-30T09:08:42.444721Z",
          "iopub.execute_input": "2021-05-30T09:08:42.445257Z",
          "iopub.status.idle": "2021-05-30T09:08:42.458868Z",
          "shell.execute_reply.started": "2021-05-30T09:08:42.445212Z",
          "shell.execute_reply": "2021-05-30T09:08:42.457622Z"
        },
        "trusted": true,
        "id": "nNLi5FqOvJ3s"
      },
      "execution_count": null,
      "outputs": []
    },
    {
      "cell_type": "markdown",
      "source": [
        "# Pandas Profiling"
      ],
      "metadata": {
        "id": "01hE5lZ8IORi"
      }
    },
    {
      "cell_type": "code",
      "source": [
        "# !pip install https://github.com/pandas-profiling/pandas-profiling/archive/master.zip"
      ],
      "metadata": {
        "id": "bvqhPk4rHZGa"
      },
      "execution_count": null,
      "outputs": []
    },
    {
      "cell_type": "code",
      "source": [
        "# import pandas_profiling as pp\n",
        "# pp.ProfileReport(heart)"
      ],
      "metadata": {
        "id": "nytc6Y5cHQtK"
      },
      "execution_count": null,
      "outputs": []
    },
    {
      "cell_type": "markdown",
      "source": [
        "# ***Data Visualization***"
      ],
      "metadata": {
        "id": "zb7SVB_0vJ3t"
      }
    },
    {
      "cell_type": "markdown",
      "source": [
        "***Breakdown for chest pain***"
      ],
      "metadata": {
        "id": "IcnljMeovJ3t"
      }
    },
    {
      "cell_type": "code",
      "source": [
        "x=(heart.cp.value_counts())\n",
        "print(x)\n",
        "p = sns.countplot(data=heart, x=\"cp\")\n",
        "plt.show()"
      ],
      "metadata": {
        "_kg_hide-input": true,
        "execution": {
          "iopub.status.busy": "2021-05-30T09:08:42.933397Z",
          "iopub.execute_input": "2021-05-30T09:08:42.933878Z",
          "iopub.status.idle": "2021-05-30T09:08:43.082643Z",
          "shell.execute_reply.started": "2021-05-30T09:08:42.933831Z",
          "shell.execute_reply": "2021-05-30T09:08:43.081564Z"
        },
        "trusted": true,
        "id": "ZWnhl5BhvJ3t"
      },
      "execution_count": null,
      "outputs": []
    },
    {
      "cell_type": "markdown",
      "source": [
        "1. It can be observed people have chest pain of type 0 i.e 'Typical Angina' is the highest.\n",
        "2. It can be observed people have chest pain of type 3 i.e 'Asymptomatic' is the lowest\n",
        "3. It can also be observed people with chest pain of type 0 is almost 50% of all the people."
      ],
      "metadata": {
        "id": "nVmdY72BvJ3t"
      }
    },
    {
      "cell_type": "markdown",
      "source": [
        "***Breakdown of ECG***"
      ],
      "metadata": {
        "id": "tV7slhghvJ3t"
      }
    },
    {
      "cell_type": "code",
      "source": [
        "x=(heart.restecg.value_counts())\n",
        "print(x)\n",
        "p = sns.countplot(data=heart, x=\"restecg\")\n",
        "plt.show()\n",
        "\n"
      ],
      "metadata": {
        "_kg_hide-input": true,
        "execution": {
          "iopub.status.busy": "2021-05-30T09:08:43.354941Z",
          "iopub.execute_input": "2021-05-30T09:08:43.355404Z",
          "iopub.status.idle": "2021-05-30T09:08:43.494555Z",
          "shell.execute_reply.started": "2021-05-30T09:08:43.355356Z",
          "shell.execute_reply": "2021-05-30T09:08:43.493387Z"
        },
        "trusted": true,
        "id": "bCzbTEAQvJ3t"
      },
      "execution_count": null,
      "outputs": []
    },
    {
      "cell_type": "markdown",
      "source": [
        "ECG count is almost the same for type 0 and 1. Also, for type 2 its almost negligible in comparision to type 0 and 1."
      ],
      "metadata": {
        "id": "hTJPA0i1vJ3u"
      }
    },
    {
      "cell_type": "markdown",
      "source": [
        "***Breakdown for Exercise Induced Angina***"
      ],
      "metadata": {
        "id": "AktWKF73vJ3u"
      }
    },
    {
      "cell_type": "code",
      "source": [
        "x=(heart.exng.value_counts())\n",
        "print(x)\n",
        "p = sns.countplot(data=heart, x=\"exng\")\n",
        "plt.show()\n"
      ],
      "metadata": {
        "_kg_hide-input": true,
        "execution": {
          "iopub.status.busy": "2021-05-30T09:08:43.496582Z",
          "iopub.execute_input": "2021-05-30T09:08:43.497348Z",
          "iopub.status.idle": "2021-05-30T09:08:43.640034Z",
          "shell.execute_reply.started": "2021-05-30T09:08:43.497299Z",
          "shell.execute_reply": "2021-05-30T09:08:43.638880Z"
        },
        "trusted": true,
        "id": "28LemmzbvJ3u"
      },
      "execution_count": null,
      "outputs": []
    },
    {
      "cell_type": "markdown",
      "source": [
        "***EXNG count is more than double for type 0***"
      ],
      "metadata": {
        "id": "15jvju7QvJ3u"
      }
    },
    {
      "cell_type": "markdown",
      "source": [
        "***Breakdown for Thalium Stress Test***"
      ],
      "metadata": {
        "id": "t7zs5pz2vJ3u"
      }
    },
    {
      "cell_type": "code",
      "source": [
        "x=(heart.thall.value_counts())\n",
        "print(x)\n",
        "p = sns.countplot(data=heart, x=\"thall\")\n",
        "plt.show()\n"
      ],
      "metadata": {
        "_kg_hide-input": true,
        "execution": {
          "iopub.status.busy": "2021-05-30T09:08:43.641379Z",
          "iopub.execute_input": "2021-05-30T09:08:43.642035Z",
          "iopub.status.idle": "2021-05-30T09:08:43.795717Z",
          "shell.execute_reply.started": "2021-05-30T09:08:43.641987Z",
          "shell.execute_reply": "2021-05-30T09:08:43.794434Z"
        },
        "trusted": true,
        "id": "DgcpLyQxvJ3u"
      },
      "execution_count": null,
      "outputs": []
    },
    {
      "cell_type": "markdown",
      "source": [
        "***Thall count is max for type 2 and min for type 0.***"
      ],
      "metadata": {
        "id": "3ptSf5ncvJ3u"
      }
    },
    {
      "cell_type": "markdown",
      "source": [
        "***Heart Disease Vs Age***"
      ],
      "metadata": {
        "id": "ZXt-LGNKvJ3u"
      }
    },
    {
      "cell_type": "code",
      "source": [
        "plt.figure(figsize=(10,10))\n",
        "sns.distplot(heart[heart['output'] == 0][\"age\"], color='green',kde=True,)\n",
        "sns.distplot(heart[heart['output'] == 1][\"age\"], color='red',kde=True)\n",
        "plt.title('Disease versus Age')\n",
        "plt.show()\n",
        "\n"
      ],
      "metadata": {
        "_kg_hide-input": true,
        "execution": {
          "iopub.status.busy": "2021-05-30T09:08:44.475685Z",
          "iopub.execute_input": "2021-05-30T09:08:44.475989Z",
          "iopub.status.idle": "2021-05-30T09:08:44.737704Z",
          "shell.execute_reply.started": "2021-05-30T09:08:44.475960Z",
          "shell.execute_reply": "2021-05-30T09:08:44.736677Z"
        },
        "trusted": true,
        "id": "5QaIXzdsvJ3u"
      },
      "execution_count": null,
      "outputs": []
    },
    {
      "cell_type": "code",
      "source": [
        "plt.figure(figsize=(10,10))\n",
        "sns.distplot(heart[heart['output'] == 0][\"chol\"], color='green',kde=True,)\n",
        "sns.distplot(heart[heart['output'] == 1][\"chol\"], color='red',kde=True)\n",
        "plt.title('Cholestrol versus Age')\n",
        "plt.show()\n"
      ],
      "metadata": {
        "_kg_hide-input": true,
        "execution": {
          "iopub.status.busy": "2021-05-30T09:08:44.739191Z",
          "iopub.execute_input": "2021-05-30T09:08:44.739489Z",
          "iopub.status.idle": "2021-05-30T09:08:45.013770Z",
          "shell.execute_reply.started": "2021-05-30T09:08:44.739461Z",
          "shell.execute_reply": "2021-05-30T09:08:45.012740Z"
        },
        "trusted": true,
        "id": "Dpfm-gM2vJ3u"
      },
      "execution_count": null,
      "outputs": []
    },
    {
      "cell_type": "markdown",
      "source": [
        "***Pair Plot***"
      ],
      "metadata": {
        "id": "qEtqi-SuvJ3v"
      }
    },
    {
      "cell_type": "code",
      "source": [
        "# plt.figure(figsize=(20,20))\n",
        "# sns.pairplot(heart)\n",
        "# plt.show()"
      ],
      "metadata": {
        "_kg_hide-input": true,
        "execution": {
          "iopub.status.busy": "2021-05-30T09:08:46.172013Z",
          "iopub.execute_input": "2021-05-30T09:08:46.172465Z",
          "iopub.status.idle": "2021-05-30T09:09:25.325564Z",
          "shell.execute_reply.started": "2021-05-30T09:08:46.172419Z",
          "shell.execute_reply": "2021-05-30T09:09:25.324535Z"
        },
        "trusted": true,
        "id": "GLy7p4NEvJ3v"
      },
      "execution_count": null,
      "outputs": []
    },
    {
      "cell_type": "markdown",
      "source": [
        "***Violin Plot***"
      ],
      "metadata": {
        "id": "8zSH_tLqvJ3v"
      }
    },
    {
      "cell_type": "code",
      "source": [
        "plt.figure(figsize=(13,13))\n",
        "plt.subplot(2,3,1)\n",
        "sns.violinplot(x = 'sex', y = 'output', data = heart)\n",
        "plt.subplot(2,3,2)\n",
        "sns.violinplot(x = 'thall', y = 'output', data = heart)\n",
        "plt.subplot(2,3,3)\n",
        "sns.violinplot(x = 'exng', y = 'output', data = heart)\n",
        "plt.subplot(2,3,4)\n",
        "sns.violinplot(x = 'restecg', y = 'output', data = heart)\n",
        "plt.subplot(2,3,5)\n",
        "sns.violinplot(x = 'cp', y = 'output', data = heart)\n",
        "plt.xticks(fontsize=9, rotation=45)\n",
        "plt.subplot(2,3,6)\n",
        "sns.violinplot(x = 'fbs', y = 'output', data = heart)\n",
        "\n",
        "plt.show()"
      ],
      "metadata": {
        "_kg_hide-input": true,
        "execution": {
          "iopub.status.busy": "2021-05-30T09:09:25.326935Z",
          "iopub.execute_input": "2021-05-30T09:09:25.327223Z",
          "iopub.status.idle": "2021-05-30T09:09:26.333300Z",
          "shell.execute_reply.started": "2021-05-30T09:09:25.327196Z",
          "shell.execute_reply": "2021-05-30T09:09:26.332471Z"
        },
        "trusted": true,
        "id": "BX3h5JPOvJ3v"
      },
      "execution_count": null,
      "outputs": []
    },
    {
      "cell_type": "markdown",
      "source": [
        "# **Data preprocessing**"
      ],
      "metadata": {
        "id": "Q2rmowmHvJ3w"
      }
    },
    {
      "cell_type": "markdown",
      "source": [
        "**There's no need for categorical encoding**"
      ],
      "metadata": {
        "id": "SaMq9LruvJ3w"
      }
    },
    {
      "cell_type": "code",
      "source": [
        "x = heart.iloc[:, 1:-1].values\n",
        "y = heart.iloc[:, -1].values\n",
        "x,y"
      ],
      "metadata": {
        "execution": {
          "iopub.status.busy": "2021-05-30T09:09:26.334211Z",
          "iopub.execute_input": "2021-05-30T09:09:26.334477Z",
          "iopub.status.idle": "2021-05-30T09:09:26.344205Z",
          "shell.execute_reply.started": "2021-05-30T09:09:26.334450Z",
          "shell.execute_reply": "2021-05-30T09:09:26.343126Z"
        },
        "trusted": true,
        "id": "uaelbCPjvJ3w"
      },
      "execution_count": null,
      "outputs": []
    },
    {
      "cell_type": "markdown",
      "source": [
        "**Splitting the dataset into training and testing data**"
      ],
      "metadata": {
        "id": "q9Z0bKpCvJ3w"
      }
    },
    {
      "cell_type": "code",
      "source": [
        "x_train, x_test, y_train, y_test = train_test_split(x, y, test_size= 0.2, random_state= 0)"
      ],
      "metadata": {
        "execution": {
          "iopub.status.busy": "2021-05-30T09:09:26.345928Z",
          "iopub.execute_input": "2021-05-30T09:09:26.346362Z",
          "iopub.status.idle": "2021-05-30T09:09:26.358301Z",
          "shell.execute_reply.started": "2021-05-30T09:09:26.346319Z",
          "shell.execute_reply": "2021-05-30T09:09:26.356745Z"
        },
        "trusted": true,
        "id": "L27mxnnMvJ3w"
      },
      "execution_count": null,
      "outputs": []
    },
    {
      "cell_type": "code",
      "source": [
        "print('Shape for training data', x_train.shape, y_train.shape)\n",
        "print('Shape for testing data', x_test.shape, y_test.shape)"
      ],
      "metadata": {
        "_kg_hide-input": true,
        "execution": {
          "iopub.status.busy": "2021-05-30T09:09:26.360466Z",
          "iopub.execute_input": "2021-05-30T09:09:26.360808Z",
          "iopub.status.idle": "2021-05-30T09:09:26.372726Z",
          "shell.execute_reply.started": "2021-05-30T09:09:26.360778Z",
          "shell.execute_reply": "2021-05-30T09:09:26.370622Z"
        },
        "trusted": true,
        "id": "vQbu08ICvJ3w"
      },
      "execution_count": null,
      "outputs": []
    },
    {
      "cell_type": "markdown",
      "source": [
        "**Feature Scaling**"
      ],
      "metadata": {
        "id": "rrVoTHDWvJ3w"
      }
    },
    {
      "cell_type": "code",
      "source": [
        "scaler = StandardScaler()\n",
        "x_train = scaler.fit_transform(x_train)\n",
        "x_test = scaler.transform(x_test)"
      ],
      "metadata": {
        "execution": {
          "iopub.status.busy": "2021-05-30T09:09:26.374679Z",
          "iopub.execute_input": "2021-05-30T09:09:26.375125Z",
          "iopub.status.idle": "2021-05-30T09:09:26.386185Z",
          "shell.execute_reply.started": "2021-05-30T09:09:26.375079Z",
          "shell.execute_reply": "2021-05-30T09:09:26.385070Z"
        },
        "trusted": true,
        "id": "1-4EFsDZvJ3w"
      },
      "execution_count": null,
      "outputs": []
    },
    {
      "cell_type": "code",
      "source": [
        "x_train,x_test"
      ],
      "metadata": {
        "execution": {
          "iopub.status.busy": "2021-05-30T09:09:26.387956Z",
          "iopub.execute_input": "2021-05-30T09:09:26.388407Z",
          "iopub.status.idle": "2021-05-30T09:09:26.413272Z",
          "shell.execute_reply.started": "2021-05-30T09:09:26.388363Z",
          "shell.execute_reply": "2021-05-30T09:09:26.412156Z"
        },
        "trusted": true,
        "id": "R1Klm32EvJ3w"
      },
      "execution_count": null,
      "outputs": []
    },
    {
      "cell_type": "markdown",
      "source": [
        "**1. Logistic Regression**"
      ],
      "metadata": {
        "id": "sMW0iWpGvJ3w"
      }
    },
    {
      "cell_type": "code",
      "source": [
        "model = LogisticRegression()\n",
        "model.fit(x_train, y_train)\n",
        "predicted=model.predict(x_test)\n",
        "conf = confusion_matrix(y_test, predicted)\n",
        "print (\"Confusion Matrix : \\n\", conf)\n",
        "print()\n",
        "print()\n",
        "print (\"The accuracy of Logistic Regression is : \", accuracy_score(y_test, predicted)*100, \"%\")"
      ],
      "metadata": {
        "execution": {
          "iopub.status.busy": "2021-05-30T09:09:26.414987Z",
          "iopub.execute_input": "2021-05-30T09:09:26.415393Z",
          "iopub.status.idle": "2021-05-30T09:09:26.432734Z",
          "shell.execute_reply.started": "2021-05-30T09:09:26.415349Z",
          "shell.execute_reply": "2021-05-30T09:09:26.431818Z"
        },
        "trusted": true,
        "id": "melwJXi7vJ3x"
      },
      "execution_count": null,
      "outputs": []
    },
    {
      "cell_type": "code",
      "source": [
        "from scikitplot.estimators import plot_feature_importances\n",
        "from scikitplot.metrics import plot_confusion_matrix, plot_roc"
      ],
      "metadata": {
        "id": "zfdyVexBp1zK"
      },
      "execution_count": null,
      "outputs": []
    },
    {
      "cell_type": "code",
      "source": [
        "Y_test_probs = model.predict_proba(x_test)\n",
        "\n",
        "plot_roc(y_test, Y_test_probs, title=\"Logistic Regression\", figsize=(12,6));"
      ],
      "metadata": {
        "id": "SXV1SI6OrBd1"
      },
      "execution_count": null,
      "outputs": []
    },
    {
      "cell_type": "code",
      "source": [
        "# !pip install scikit-plot\n",
        "import scikitplot as skplt\n",
        "\n",
        "Y_test_pred = predicted\n",
        "\n",
        "fig = plt.figure(figsize=(15,6))\n",
        "\n",
        "ax1 = fig.add_subplot(121)\n",
        "skplt.metrics.plot_confusion_matrix(y_test, predicted,\n",
        "                                    title=\"Confusion Matrix\",\n",
        "                                    cmap=\"Oranges\",\n",
        "                                    ax=ax1)\n",
        "\n",
        "ax2 = fig.add_subplot(122)\n",
        "skplt.metrics.plot_confusion_matrix(y_test, predicted,\n",
        "                                    normalize=True,\n",
        "                                    title=\"Confusion Matrix\",\n",
        "                                    cmap=\"Purples\",\n",
        "                                    ax=ax2);\n"
      ],
      "metadata": {
        "id": "3-ys_a8WlF9r"
      },
      "execution_count": null,
      "outputs": []
    },
    {
      "cell_type": "markdown",
      "source": [
        "**2.Gaussian Naive Bayes**"
      ],
      "metadata": {
        "id": "IPD7re_gvJ3x"
      }
    },
    {
      "cell_type": "code",
      "source": [
        "model = GaussianNB()\n",
        "model.fit(x_train, y_train)\n",
        "\n",
        "predicted = model.predict(x_test)\n",
        "\n",
        "print(\"The accuracy of Gaussian Naive Bayes model is : \", accuracy_score(y_test, predicted)*100, \"%\")"
      ],
      "metadata": {
        "_kg_hide-input": true,
        "execution": {
          "iopub.status.busy": "2021-05-30T09:09:26.433975Z",
          "iopub.execute_input": "2021-05-30T09:09:26.434291Z",
          "iopub.status.idle": "2021-05-30T09:09:26.445441Z",
          "shell.execute_reply.started": "2021-05-30T09:09:26.434263Z",
          "shell.execute_reply": "2021-05-30T09:09:26.443519Z"
        },
        "trusted": true,
        "id": "611MFc8fvJ3x"
      },
      "execution_count": null,
      "outputs": []
    },
    {
      "cell_type": "code",
      "source": [
        "Y_test_probs = model.predict_proba(x_test)\n",
        "\n",
        "plot_roc(y_test, Y_test_probs,\n",
        "                       title=\"Gaussian Naive Bayes\", figsize=(12,6));"
      ],
      "metadata": {
        "id": "NQHjK71ysrHC"
      },
      "execution_count": null,
      "outputs": []
    },
    {
      "cell_type": "code",
      "source": [
        "# !pip install scikit-plot\n",
        "import scikitplot as skplt\n",
        "\n",
        "Y_test_pred = predicted\n",
        "\n",
        "fig = plt.figure(figsize=(15,6))\n",
        "\n",
        "ax1 = fig.add_subplot(121)\n",
        "skplt.metrics.plot_confusion_matrix(y_test, predicted,\n",
        "                                    title=\"Confusion Matrix\",\n",
        "                                    cmap=\"Oranges\",\n",
        "                                    ax=ax1)\n",
        "\n",
        "ax2 = fig.add_subplot(122)\n",
        "skplt.metrics.plot_confusion_matrix(y_test, predicted,\n",
        "                                    normalize=True,\n",
        "                                    title=\"Confusion Matrix\",\n",
        "                                    cmap=\"Purples\",\n",
        "                                    ax=ax2);\n"
      ],
      "metadata": {
        "id": "yM8YwjmqpG5x"
      },
      "execution_count": null,
      "outputs": []
    },
    {
      "cell_type": "markdown",
      "source": [
        "**3.Bernoulli Naive Bayes**"
      ],
      "metadata": {
        "id": "6bW-7jcUvJ3x"
      }
    },
    {
      "cell_type": "code",
      "source": [
        "model = BernoulliNB()\n",
        "model.fit(x_train, y_train)\n",
        "\n",
        "predicted = model.predict(x_test)\n",
        "\n",
        "print(\"The accuracy of Bernoulli Naive Bayes model is : \", accuracy_score(y_test, predicted)*100, \"%\")"
      ],
      "metadata": {
        "_kg_hide-input": true,
        "execution": {
          "iopub.status.busy": "2021-05-30T09:09:26.446859Z",
          "iopub.execute_input": "2021-05-30T09:09:26.447486Z",
          "iopub.status.idle": "2021-05-30T09:09:26.458515Z",
          "shell.execute_reply.started": "2021-05-30T09:09:26.447433Z",
          "shell.execute_reply": "2021-05-30T09:09:26.457350Z"
        },
        "trusted": true,
        "id": "H0XhTbdfvJ3x"
      },
      "execution_count": null,
      "outputs": []
    },
    {
      "cell_type": "markdown",
      "source": [
        "* True Positive + True Negative : 54\n",
        "* False Positive + False Negative : 7"
      ],
      "metadata": {
        "id": "-DGoXrvHvJ3x"
      }
    },
    {
      "cell_type": "code",
      "source": [
        "Y_test_probs = model.predict_proba(x_test)\n",
        "\n",
        "plot_roc(y_test, Y_test_probs,\n",
        "                       title=\"Bernoulli Naive Bayes\", figsize=(12,6));"
      ],
      "metadata": {
        "id": "tZhZJtaksv1Z"
      },
      "execution_count": null,
      "outputs": []
    },
    {
      "cell_type": "code",
      "source": [
        "# !pip install scikit-plot\n",
        "import scikitplot as skplt\n",
        "\n",
        "Y_test_pred = predicted\n",
        "\n",
        "fig = plt.figure(figsize=(15,6))\n",
        "\n",
        "ax1 = fig.add_subplot(121)\n",
        "skplt.metrics.plot_confusion_matrix(y_test, predicted,\n",
        "                                    title=\"Confusion Matrix\",\n",
        "                                    cmap=\"Oranges\",\n",
        "                                    ax=ax1)\n",
        "\n",
        "ax2 = fig.add_subplot(122)\n",
        "skplt.metrics.plot_confusion_matrix(y_test, predicted,\n",
        "                                    normalize=True,\n",
        "                                    title=\"Confusion Matrix\",\n",
        "                                    cmap=\"Purples\",\n",
        "                                    ax=ax2);\n"
      ],
      "metadata": {
        "id": "2o8--e49pJ8P"
      },
      "execution_count": null,
      "outputs": []
    },
    {
      "cell_type": "markdown",
      "source": [
        "**4.Support Vector Machine**"
      ],
      "metadata": {
        "id": "doh-lVPVvJ3x"
      }
    },
    {
      "cell_type": "code",
      "source": [
        "model = SVC(probability=True)\n",
        "model.fit(x_train, y_train)\n",
        "\n",
        "predicted = model.predict(x_test)\n",
        "print(\"The accuracy of SVM is : \", accuracy_score(y_test, predicted)*100, \"%\")\n",
        "\n"
      ],
      "metadata": {
        "_kg_hide-input": true,
        "execution": {
          "iopub.status.busy": "2021-05-30T09:09:26.459950Z",
          "iopub.execute_input": "2021-05-30T09:09:26.460358Z",
          "iopub.status.idle": "2021-05-30T09:09:26.472656Z",
          "shell.execute_reply.started": "2021-05-30T09:09:26.460318Z",
          "shell.execute_reply": "2021-05-30T09:09:26.471294Z"
        },
        "trusted": true,
        "id": "Rpvwt3DbvJ3x"
      },
      "execution_count": null,
      "outputs": []
    },
    {
      "cell_type": "code",
      "source": [
        "Y_test_probs = model.predict_proba(x_test)\n",
        "\n",
        "skplt.metrics.plot_roc_curve(y_test, Y_test_probs,\n",
        "                       title=\"Support Vector Classifer (SVC)\", figsize=(12,6));"
      ],
      "metadata": {
        "id": "sh7FKADF1pFK"
      },
      "execution_count": null,
      "outputs": []
    },
    {
      "cell_type": "code",
      "source": [
        "# !pip install scikit-plot\n",
        "import scikitplot as skplt\n",
        "\n",
        "Y_test_pred = predicted\n",
        "\n",
        "fig = plt.figure(figsize=(15,6))\n",
        "\n",
        "ax1 = fig.add_subplot(121)\n",
        "skplt.metrics.plot_confusion_matrix(y_test, predicted,\n",
        "                                    title=\"Confusion Matrix\",\n",
        "                                    cmap=\"Oranges\",\n",
        "                                    ax=ax1)\n",
        "\n",
        "ax2 = fig.add_subplot(122)\n",
        "skplt.metrics.plot_confusion_matrix(y_test, predicted,\n",
        "                                    normalize=True,\n",
        "                                    title=\"Confusion Matrix\",\n",
        "                                    cmap=\"Purples\",\n",
        "                                    ax=ax2);\n"
      ],
      "metadata": {
        "id": "-Cy0XOwOpSNs"
      },
      "execution_count": null,
      "outputs": []
    },
    {
      "cell_type": "markdown",
      "source": [
        "**5.Random Forest**"
      ],
      "metadata": {
        "id": "Z1RCdUAVvJ3x"
      }
    },
    {
      "cell_type": "code",
      "source": [
        "model = RandomForestRegressor(n_estimators = 100, random_state = 0)\n",
        "model.fit(x_train, y_train)\n",
        "predicted = model.predict(x_test)\n",
        "print(\"The accuracy of Random Forest is : \", accuracy_score(y_test, predicted.round())*100, \"%\")\n"
      ],
      "metadata": {
        "_kg_hide-input": true,
        "execution": {
          "iopub.status.busy": "2021-05-30T09:09:26.473632Z",
          "iopub.execute_input": "2021-05-30T09:09:26.473909Z",
          "iopub.status.idle": "2021-05-30T09:09:26.694718Z",
          "shell.execute_reply.started": "2021-05-30T09:09:26.473882Z",
          "shell.execute_reply": "2021-05-30T09:09:26.693183Z"
        },
        "trusted": true,
        "id": "pwlhdJH5vJ3x"
      },
      "execution_count": null,
      "outputs": []
    },
    {
      "cell_type": "markdown",
      "source": [
        "**6.K Nearest Neighbours**"
      ],
      "metadata": {
        "id": "i1dz8x3_vJ3x"
      }
    },
    {
      "cell_type": "code",
      "source": [
        "\n",
        "model = KNeighborsClassifier(n_neighbors = 1)\n",
        "model.fit(x_train, y_train)\n",
        "predicted = model.predict(x_test)\n",
        "\n",
        "\n",
        "print(confusion_matrix(y_test, predicted))\n",
        "print(\"The accuracy of KNN is : \", accuracy_score(y_test, predicted.round())*100, \"%\")\n",
        "\n",
        "\n"
      ],
      "metadata": {
        "_kg_hide-input": true,
        "execution": {
          "iopub.status.busy": "2021-05-30T09:09:26.696162Z",
          "iopub.execute_input": "2021-05-30T09:09:26.696486Z",
          "iopub.status.idle": "2021-05-30T09:09:26.710333Z",
          "shell.execute_reply.started": "2021-05-30T09:09:26.696455Z",
          "shell.execute_reply": "2021-05-30T09:09:26.709322Z"
        },
        "trusted": true,
        "id": "ifA2qHKhvJ3x"
      },
      "execution_count": null,
      "outputs": []
    },
    {
      "cell_type": "code",
      "source": [
        "Y_test_probs = model.predict_proba(x_test)\n",
        "\n",
        "skplt.metrics.plot_roc_curve(y_test, Y_test_probs,\n",
        "                       title=\"KNN\", figsize=(12,6));"
      ],
      "metadata": {
        "id": "XRN8wBTbs9mZ"
      },
      "execution_count": null,
      "outputs": []
    },
    {
      "cell_type": "code",
      "source": [
        "# !pip install scikit-plot\n",
        "import scikitplot as skplt\n",
        "\n",
        "Y_test_pred = predicted\n",
        "\n",
        "fig = plt.figure(figsize=(15,6))\n",
        "\n",
        "ax1 = fig.add_subplot(121)\n",
        "skplt.metrics.plot_confusion_matrix(y_test, predicted,\n",
        "                                    title=\"Confusion Matrix\",\n",
        "                                    cmap=\"Oranges\",\n",
        "                                    ax=ax1)\n",
        "\n",
        "ax2 = fig.add_subplot(122)\n",
        "skplt.metrics.plot_confusion_matrix(y_test, predicted,\n",
        "                                    normalize=True,\n",
        "                                    title=\"Confusion Matrix\",\n",
        "                                    cmap=\"Purples\",\n",
        "                                    ax=ax2);\n"
      ],
      "metadata": {
        "id": "RLJV976fpefp"
      },
      "execution_count": null,
      "outputs": []
    },
    {
      "cell_type": "markdown",
      "source": [
        "**Optimizing the KNN**"
      ],
      "metadata": {
        "id": "tlvKYl7JvJ3x"
      }
    },
    {
      "cell_type": "code",
      "source": [
        "error_rate = []\n",
        "\n",
        "for i in range(1, 40):\n",
        "\n",
        "    model = KNeighborsClassifier(n_neighbors = i)\n",
        "    model.fit(x_train, y_train)\n",
        "    pred_i = model.predict(x_test)\n",
        "    error_rate.append(np.mean(pred_i != y_test))\n",
        "\n",
        "plt.figure(figsize =(10, 6))\n",
        "plt.plot(range(1, 40), error_rate, color ='blue',\n",
        "                linestyle ='dashed', marker ='o',\n",
        "         markerfacecolor ='red', markersize = 10)\n",
        "\n",
        "plt.title('Error Rate vs. K Value')\n",
        "plt.xlabel('K')\n",
        "plt.ylabel('Error Rate')\n",
        "\n"
      ],
      "metadata": {
        "_kg_hide-input": true,
        "execution": {
          "iopub.status.busy": "2021-05-30T09:09:26.712091Z",
          "iopub.execute_input": "2021-05-30T09:09:26.712500Z",
          "iopub.status.idle": "2021-05-30T09:09:27.075955Z",
          "shell.execute_reply.started": "2021-05-30T09:09:26.712464Z",
          "shell.execute_reply": "2021-05-30T09:09:27.075074Z"
        },
        "trusted": true,
        "id": "axETL60uvJ3x"
      },
      "execution_count": null,
      "outputs": []
    },
    {
      "cell_type": "markdown",
      "source": [
        "With k=7 as it hovers after that"
      ],
      "metadata": {
        "id": "sFOOpYKPvJ3x"
      }
    },
    {
      "cell_type": "code",
      "source": [
        "model = KNeighborsClassifier(n_neighbors = 7)\n",
        "\n",
        "model.fit(x_train, y_train)\n",
        "predicted = model.predict(x_test)\n",
        "\n",
        "print('Confusion Matrix :')\n",
        "from sklearn.metrics import classification_report, confusion_matrix\n",
        "print(confusion_matrix(y_test, predicted))\n",
        "\n",
        "print()\n",
        "print()\n",
        "print(\"The accuracy of KNN is : \", accuracy_score(y_test, predicted.round())*100, \"%\")\n"
      ],
      "metadata": {
        "_kg_hide-input": true,
        "execution": {
          "iopub.status.busy": "2021-05-30T09:09:27.077202Z",
          "iopub.execute_input": "2021-05-30T09:09:27.077499Z",
          "iopub.status.idle": "2021-05-30T09:09:27.092966Z",
          "shell.execute_reply.started": "2021-05-30T09:09:27.077470Z",
          "shell.execute_reply": "2021-05-30T09:09:27.091574Z"
        },
        "trusted": true,
        "id": "xYUN8OuyvJ3x"
      },
      "execution_count": null,
      "outputs": []
    },
    {
      "cell_type": "code",
      "source": [
        "Y_test_probs = model.predict_proba(x_test)\n",
        "\n",
        "skplt.metrics.plot_roc_curve(y_test, Y_test_probs,\n",
        "                       title=\"Optimized KNN\", figsize=(12,6));"
      ],
      "metadata": {
        "id": "GG_7-WR6tCCg"
      },
      "execution_count": null,
      "outputs": []
    },
    {
      "cell_type": "code",
      "source": [
        "# !pip install scikit-plot\n",
        "import scikitplot as skplt\n",
        "\n",
        "Y_test_pred = predicted\n",
        "\n",
        "fig = plt.figure(figsize=(15,6))\n",
        "\n",
        "ax1 = fig.add_subplot(121)\n",
        "skplt.metrics.plot_confusion_matrix(y_test, predicted,\n",
        "                                    title=\"Confusion Matrix\",\n",
        "                                    cmap=\"Oranges\",\n",
        "                                    ax=ax1)\n",
        "\n",
        "ax2 = fig.add_subplot(122)\n",
        "skplt.metrics.plot_confusion_matrix(y_test, predicted,\n",
        "                                    normalize=True,\n",
        "                                    title=\"Confusion Matrix\",\n",
        "                                    cmap=\"Purples\",\n",
        "                                    ax=ax2);\n"
      ],
      "metadata": {
        "id": "J3dHk74Tp7Z4"
      },
      "execution_count": null,
      "outputs": []
    },
    {
      "cell_type": "markdown",
      "source": [
        "**7.X Gradient Boosting**"
      ],
      "metadata": {
        "id": "hHoZkYHKvJ3y"
      }
    },
    {
      "cell_type": "code",
      "source": [
        "model = xgb.XGBClassifier(use_label_encoder=False)\n",
        "model.fit(x_train, y_train)\n",
        "\n",
        "predicted = model.predict(x_test)\n",
        "\n",
        "cm = confusion_matrix(y_test, predicted)\n",
        "print(cm)\n",
        "print (\"The accuracy of X Gradient Boosting is : \", accuracy_score(y_test, predicted)*100, \"%\")\n"
      ],
      "metadata": {
        "_kg_hide-input": true,
        "execution": {
          "iopub.status.busy": "2021-05-30T09:09:27.094705Z",
          "iopub.execute_input": "2021-05-30T09:09:27.095144Z",
          "iopub.status.idle": "2021-05-30T09:09:27.156339Z",
          "shell.execute_reply.started": "2021-05-30T09:09:27.095100Z",
          "shell.execute_reply": "2021-05-30T09:09:27.155480Z"
        },
        "trusted": true,
        "id": "PCS1j8_8vJ3y"
      },
      "execution_count": null,
      "outputs": []
    },
    {
      "cell_type": "code",
      "source": [
        "Y_test_probs = model.predict_proba(x_test)\n",
        "\n",
        "skplt.metrics.plot_roc_curve(y_test, Y_test_probs,\n",
        "                       title=\"XGBoost\", figsize=(12,6));"
      ],
      "metadata": {
        "id": "Eei6OU6EtET4"
      },
      "execution_count": null,
      "outputs": []
    },
    {
      "cell_type": "code",
      "source": [
        "# !pip install scikit-plot\n",
        "import scikitplot as skplt\n",
        "\n",
        "Y_test_pred = predicted\n",
        "\n",
        "fig = plt.figure(figsize=(15,6))\n",
        "\n",
        "ax1 = fig.add_subplot(121)\n",
        "skplt.metrics.plot_confusion_matrix(y_test, predicted,\n",
        "                                    title=\"Confusion Matrix\",\n",
        "                                    cmap=\"Oranges\",\n",
        "                                    ax=ax1)\n",
        "\n",
        "ax2 = fig.add_subplot(122)\n",
        "skplt.metrics.plot_confusion_matrix(y_test, predicted,\n",
        "                                    normalize=True,\n",
        "                                    title=\"Confusion Matrix\",\n",
        "                                    cmap=\"Purples\",\n",
        "                                    ax=ax2);\n"
      ],
      "metadata": {
        "id": "UCAbvMwNymtK"
      },
      "execution_count": null,
      "outputs": []
    },
    {
      "cell_type": "markdown",
      "source": [
        "**8.MLP PSO**"
      ],
      "metadata": {
        "id": "Ie8lriBeS5Hj"
      }
    },
    {
      "cell_type": "code",
      "source": [
        "from PSOMLP import PSOMLP\n",
        "\n",
        "n = 200\n",
        "i = 5\n",
        "# generate random dataset\n",
        "x = np.random.normal(-1, 1, size=(n, i))\n",
        "# the class is defined by a real function applied to x\n",
        "y = np.array([1 if sum(a) >= 1 else 0 for a in x])\n",
        "\n",
        "pso = PSOMLP(hlayers=(10,))\n",
        "mlp = pso.fit(x, y, iterations=100)\n",
        "print(\"Accuracy for trainning data:\", 100 * mlp.score(x, y))\n",
        "\n",
        "mlp = pso.fit(x_train, y_train, iterations=100)\n",
        "print(\"Accuracy for testing data:\", 100 * mlp.score(x_test, y_test))"
      ],
      "metadata": {
        "id": "axGVf-P2KX-I"
      },
      "execution_count": null,
      "outputs": []
    },
    {
      "cell_type": "code",
      "source": [
        "plt.style.use('fivethirtyeight')\n",
        "# plot histograms for each variable\n",
        "heart.hist(figsize = (18, 12))\n",
        "plt.show()"
      ],
      "metadata": {
        "id": "l5sKXBp_NAIJ"
      },
      "execution_count": null,
      "outputs": []
    },
    {
      "cell_type": "markdown",
      "source": [
        "**Neural Network**"
      ],
      "metadata": {
        "id": "1eI_k07qTDm0"
      }
    },
    {
      "cell_type": "code",
      "source": [
        "import keras\n",
        "from keras.models import Sequential\n",
        "from keras.layers import Dense\n",
        "model = Sequential()\n",
        "model.add(Dense(1, activation='sigmoid'))\n",
        "model.compile(loss='binary_crossentropy', optimizer='adam', metrics=['accuracy'])\n",
        "model.fit(x_train, y_train, epochs=25, validation_data=(x_test, y_test))"
      ],
      "metadata": {
        "id": "wVRnmlbcO5fn"
      },
      "execution_count": null,
      "outputs": []
    },
    {
      "cell_type": "code",
      "source": [
        "# Import the classifiers\n",
        "from sklearn.linear_model import LogisticRegression\n",
        "from sklearn.naive_bayes import GaussianNB\n",
        "from sklearn.neighbors import KNeighborsClassifier\n",
        "from sklearn.tree import DecisionTreeClassifier\n",
        "from sklearn.ensemble import RandomForestClassifier\n",
        "\n",
        "from sklearn.metrics import roc_curve, roc_auc_score\n",
        "\n",
        "# Instantiate the classfiers and make a list\n",
        "classifiers = [LogisticRegression(random_state=42),\n",
        "               GaussianNB(), BernoulliNB(), SVC(probability=True),\n",
        "               KNeighborsClassifier(n_neighbors=7),\n",
        "               RandomForestClassifier(random_state=42),\n",
        "               xgb.XGBClassifier(use_label_encoder=False)]\n",
        "\n",
        "# Define a result table as a DataFrame\n",
        "result_table = pd.DataFrame(columns=['classifiers', 'fpr','tpr','auc'])\n",
        "\n",
        "# Train the models and record the results\n",
        "for cls in classifiers:\n",
        "    model = cls.fit(x_train, y_train)\n",
        "    yproba = model.predict_proba(x_test)[::,1]\n",
        "\n",
        "    fpr, tpr, _ = roc_curve(y_test,  yproba)\n",
        "    auc = roc_auc_score(y_test, yproba)\n",
        "\n",
        "    result_table = result_table.append({'classifiers':cls.__class__.__name__,\n",
        "                                        'fpr':fpr,\n",
        "                                        'tpr':tpr,\n",
        "                                        'auc':auc}, ignore_index=True)\n",
        "\n",
        "# Set name of the classifiers as index labels\n",
        "result_table.set_index('classifiers', inplace=True)"
      ],
      "metadata": {
        "id": "m-PYng92_uBk"
      },
      "execution_count": null,
      "outputs": []
    },
    {
      "cell_type": "code",
      "source": [
        "fig = plt.figure(figsize=(8,6))\n",
        "\n",
        "for i in result_table.index:\n",
        "    plt.plot(result_table.loc[i]['fpr'],\n",
        "             result_table.loc[i]['tpr'],\n",
        "             label=\"{}, AUC={:.3f}\".format(i, result_table.loc[i]['auc']))\n",
        "\n",
        "plt.plot([0,1], [0,1], color='orange', linestyle='--')\n",
        "\n",
        "plt.xticks(np.arange(0.0, 1.1, step=0.1))\n",
        "plt.xlabel(\"False Positive Rate\", fontsize=15)\n",
        "\n",
        "plt.yticks(np.arange(0.0, 1.1, step=0.1))\n",
        "plt.ylabel(\"True Positive Rate\", fontsize=15)\n",
        "\n",
        "plt.title('ROC Curve Analysis', fontweight='bold', fontsize=15)\n",
        "plt.legend(prop={'size':13}, loc='lower right')\n",
        "\n",
        "plt.show()\n"
      ],
      "metadata": {
        "id": "Q_1IrFhI_zDb"
      },
      "execution_count": null,
      "outputs": []
    },
    {
      "cell_type": "code",
      "source": [
        "import matplotlib.pyplot as plot\n",
        "\n",
        "plot.plot(['Log Reg', 'SVM'])\n",
        "plot.plot([88.5, 91.8])\n",
        "plot.title('model accuracy')\n",
        "plot.ylabel('accuracy')"
      ],
      "metadata": {
        "id": "ftVvKi7wDQSP"
      },
      "execution_count": null,
      "outputs": []
    },
    {
      "cell_type": "markdown",
      "source": [
        " # **Conclusion**"
      ],
      "metadata": {
        "id": "9aUse2y0vJ3y"
      }
    },
    {
      "cell_type": "markdown",
      "source": [
        "1. Most of the models are performing really well.\n",
        "2. SVM is performing the best for the given dataset."
      ],
      "metadata": {
        "id": "DG77PjwKvJ3y"
      }
    }
  ]
}